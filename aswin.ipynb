{
 "cells": [
  {
   "cell_type": "markdown",
   "metadata": {},
   "source": [
    "LOADING DATA INTO THE NOTEBOOK"
   ]
  },
  {
   "cell_type": "code",
   "execution_count": 1,
   "metadata": {},
   "outputs": [
    {
     "name": "stdout",
     "output_type": "stream",
     "text": [
      "  Symbol  GICS Sector    Headquarters Location      Founded\n",
      "0    MMM  Industrials    Saint Paul, Minnesota         1902\n",
      "1    AOS  Industrials     Milwaukee, Wisconsin         1916\n",
      "2    ABT  Health Care  North Chicago, Illinois         1888\n",
      "3   ABBV  Health Care  North Chicago, Illinois  2013 (1888)\n",
      "4   ABMD  Health Care   Danvers, Massachusetts         1981\n",
      "        Date       Close   Volume Symbol  News - Positive Sentiment  \\\n",
      "0  30/9/2020  160.179993  3056900    MMM                        NaN   \n",
      "1  1/10/2020  158.789993  1989100    MMM                        0.0   \n",
      "2  2/10/2020  160.360001  1768600    MMM                        3.0   \n",
      "3  5/10/2020  162.750000  1457000    MMM                        2.0   \n",
      "4  6/10/2020  162.229996  2021900    MMM                        0.0   \n",
      "\n",
      "   News - Negative Sentiment  News - New Products  News - Layoffs  \\\n",
      "0                        NaN                  NaN             NaN   \n",
      "1                        0.0                  0.0             0.0   \n",
      "2                        0.0                  0.0             0.0   \n",
      "3                        3.0                  0.0             0.0   \n",
      "4                        0.0                  0.0             0.0   \n",
      "\n",
      "   News - Analyst Comments  News - Stocks  News - Dividends  \\\n",
      "0                      NaN            NaN               NaN   \n",
      "1                      4.0            4.0               0.0   \n",
      "2                      2.0            2.0               0.0   \n",
      "3                      2.0            2.0               0.0   \n",
      "4                      3.0            3.0               0.0   \n",
      "\n",
      "   News - Corporate Earnings  News - Mergers & Acquisitions  \\\n",
      "0                        NaN                            NaN   \n",
      "1                        0.0                            0.0   \n",
      "2                        2.0                            1.0   \n",
      "3                        0.0                            2.0   \n",
      "4                        0.0                            3.0   \n",
      "\n",
      "   News - Store Openings  News - Product Recalls  News - Adverse Events  \\\n",
      "0                    NaN                     NaN                    NaN   \n",
      "1                    0.0                     0.0                    0.0   \n",
      "2                    0.0                     0.0                    1.0   \n",
      "3                    0.0                     0.0                    0.0   \n",
      "4                    0.0                     0.0                    3.0   \n",
      "\n",
      "   News - Personnel Changes  News - Stock Rumors  \n",
      "0                       NaN                  NaN  \n",
      "1                       0.0                  0.0  \n",
      "2                       0.0                  0.0  \n",
      "3                       1.0                  0.0  \n",
      "4                       0.0                  0.0  \n"
     ]
    }
   ],
   "source": [
    "import pandas as pd\n",
    "\n",
    "# Load company information\n",
    "company_info = pd.read_csv('company_info.csv')\n",
    "\n",
    "# Load company stock details\n",
    "company_stock_details = pd.read_csv('company_stock_details.csv')\n",
    "\n",
    "# Display the first few rows to understand the structure\n",
    "print(company_info.head())\n",
    "print(company_stock_details.head())"
   ]
  },
  {
   "cell_type": "markdown",
   "metadata": {},
   "source": []
  },
  {
   "cell_type": "markdown",
   "metadata": {},
   "source": []
  },
  {
   "cell_type": "markdown",
   "metadata": {},
   "source": [
    "CLEAN DATA"
   ]
  },
  {
   "cell_type": "code",
   "execution_count": 2,
   "metadata": {},
   "outputs": [
    {
     "name": "stdout",
     "output_type": "stream",
     "text": [
      "Symbol                   0\n",
      "GICS Sector              0\n",
      "Headquarters Location    0\n",
      "Founded                  0\n",
      "dtype: int64\n",
      "Date                               0\n",
      "Close                              0\n",
      "Volume                             0\n",
      "Symbol                             0\n",
      "News - Positive Sentiment        493\n",
      "News - Negative Sentiment        493\n",
      "News - New Products              493\n",
      "News - Layoffs                   493\n",
      "News - Analyst Comments          493\n",
      "News - Stocks                    493\n",
      "News - Dividends                 493\n",
      "News - Corporate Earnings        493\n",
      "News - Mergers & Acquisitions    493\n",
      "News - Store Openings            493\n",
      "News - Product Recalls           493\n",
      "News - Adverse Events            493\n",
      "News - Personnel Changes         493\n",
      "News - Stock Rumors              493\n",
      "dtype: int64\n"
     ]
    }
   ],
   "source": [
    "print(company_info.isnull().sum())\n",
    "print(company_stock_details.isnull().sum())"
   ]
  },
  {
   "cell_type": "markdown",
   "metadata": {},
   "source": [
    "HANDLING MISSING VALUES"
   ]
  },
  {
   "cell_type": "code",
   "execution_count": 3,
   "metadata": {},
   "outputs": [
    {
     "name": "stderr",
     "output_type": "stream",
     "text": [
      "C:\\Users\\alaga\\AppData\\Local\\Temp\\ipykernel_7232\\2554499657.py:1: FutureWarning: DataFrame.fillna with 'method' is deprecated and will raise in a future version. Use obj.ffill() or obj.bfill() instead.\n",
      "  company_stock_details.fillna(method='ffill', inplace=True)\n"
     ]
    }
   ],
   "source": [
    "company_stock_details.fillna(method='ffill', inplace=True)"
   ]
  },
  {
   "cell_type": "markdown",
   "metadata": {},
   "source": [
    "MERGING NEW DATA"
   ]
  },
  {
   "cell_type": "code",
   "execution_count": 4,
   "metadata": {},
   "outputs": [
    {
     "name": "stdout",
     "output_type": "stream",
     "text": [
      "        Date       Close   Volume Symbol  News - Positive Sentiment  \\\n",
      "0  30/9/2020  160.179993  3056900    MMM                        NaN   \n",
      "1  1/10/2020  158.789993  1989100    MMM                        0.0   \n",
      "2  2/10/2020  160.360001  1768600    MMM                        3.0   \n",
      "3  5/10/2020  162.750000  1457000    MMM                        2.0   \n",
      "4  6/10/2020  162.229996  2021900    MMM                        0.0   \n",
      "\n",
      "   News - Negative Sentiment  News - New Products  News - Layoffs  \\\n",
      "0                        NaN                  NaN             NaN   \n",
      "1                        0.0                  0.0             0.0   \n",
      "2                        0.0                  0.0             0.0   \n",
      "3                        3.0                  0.0             0.0   \n",
      "4                        0.0                  0.0             0.0   \n",
      "\n",
      "   News - Analyst Comments  News - Stocks  ...  News - Corporate Earnings  \\\n",
      "0                      NaN            NaN  ...                        NaN   \n",
      "1                      4.0            4.0  ...                        0.0   \n",
      "2                      2.0            2.0  ...                        2.0   \n",
      "3                      2.0            2.0  ...                        0.0   \n",
      "4                      3.0            3.0  ...                        0.0   \n",
      "\n",
      "   News - Mergers & Acquisitions  News - Store Openings  \\\n",
      "0                            NaN                    NaN   \n",
      "1                            0.0                    0.0   \n",
      "2                            1.0                    0.0   \n",
      "3                            2.0                    0.0   \n",
      "4                            3.0                    0.0   \n",
      "\n",
      "   News - Product Recalls  News - Adverse Events  News - Personnel Changes  \\\n",
      "0                     NaN                    NaN                       NaN   \n",
      "1                     0.0                    0.0                       0.0   \n",
      "2                     0.0                    1.0                       0.0   \n",
      "3                     0.0                    0.0                       1.0   \n",
      "4                     0.0                    3.0                       0.0   \n",
      "\n",
      "   News - Stock Rumors  GICS Sector  Headquarters Location Founded  \n",
      "0                  NaN  Industrials  Saint Paul, Minnesota    1902  \n",
      "1                  0.0  Industrials  Saint Paul, Minnesota    1902  \n",
      "2                  0.0  Industrials  Saint Paul, Minnesota    1902  \n",
      "3                  0.0  Industrials  Saint Paul, Minnesota    1902  \n",
      "4                  0.0  Industrials  Saint Paul, Minnesota    1902  \n",
      "\n",
      "[5 rows x 21 columns]\n"
     ]
    }
   ],
   "source": [
    "# Perform an inner join to merge on 'Symbol' (this only keeps rows where there is a match)\n",
    "merged_data = pd.merge(company_stock_details, company_info, on='Symbol', how='inner')\n",
    "\n",
    "# Check the first few rows of the merged data\n",
    "print(merged_data.head())\n",
    "\n",
    "# Save the merged data into a new CSV file\n",
    "merged_data.to_csv('merged_company_data.csv', index=False)"
   ]
  },
  {
   "cell_type": "markdown",
   "metadata": {},
   "source": [
    "CREATING LAGGED VARIABLES\n"
   ]
  },
  {
   "cell_type": "code",
   "execution_count": 5,
   "metadata": {},
   "outputs": [],
   "source": [
    "merged_data['Close_lag_1'] = merged_data.groupby('Symbol')['Close'].shift(1)\n",
    "merged_data['Close_lag_2'] = merged_data.groupby('Symbol')['Close'].shift(2)\n",
    "merged_data['Close_lag_3'] = merged_data.groupby('Symbol')['Close'].shift(3)\n",
    "merged_data['Close_lag_4'] = merged_data.groupby('Symbol')['Close'].shift(4)\n",
    "merged_data['Close_lag_5'] = merged_data.groupby('Symbol')['Close'].shift(5)"
   ]
  }
 ],
 "metadata": {
  "kernelspec": {
   "display_name": "Python 3",
   "language": "python",
   "name": "python3"
  },
  "language_info": {
   "codemirror_mode": {
    "name": "ipython",
    "version": 3
   },
   "file_extension": ".py",
   "mimetype": "text/x-python",
   "name": "python",
   "nbconvert_exporter": "python",
   "pygments_lexer": "ipython3",
   "version": "3.11.9"
  }
 },
 "nbformat": 4,
 "nbformat_minor": 2
}
