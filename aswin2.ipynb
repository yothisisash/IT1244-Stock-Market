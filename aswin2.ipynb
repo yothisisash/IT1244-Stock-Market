{
 "cells": [
  {
   "cell_type": "markdown",
   "metadata": {},
   "source": [
    "LOADING DATA INTO THE NOTEBOOK"
   ]
  },
  {
   "cell_type": "code",
   "execution_count": 1,
   "metadata": {},
   "outputs": [
    {
     "name": "stdout",
     "output_type": "stream",
     "text": [
      "  Symbol  GICS Sector    Headquarters Location      Founded\n",
      "0    MMM  Industrials    Saint Paul, Minnesota         1902\n",
      "1    AOS  Industrials     Milwaukee, Wisconsin         1916\n",
      "2    ABT  Health Care  North Chicago, Illinois         1888\n",
      "3   ABBV  Health Care  North Chicago, Illinois  2013 (1888)\n",
      "4   ABMD  Health Care   Danvers, Massachusetts         1981\n",
      "        Date       Close   Volume Symbol  News - Positive Sentiment  \\\n",
      "0  30/9/2020  160.179993  3056900    MMM                        NaN   \n",
      "1  1/10/2020  158.789993  1989100    MMM                        0.0   \n",
      "2  2/10/2020  160.360001  1768600    MMM                        3.0   \n",
      "3  5/10/2020  162.750000  1457000    MMM                        2.0   \n",
      "4  6/10/2020  162.229996  2021900    MMM                        0.0   \n",
      "\n",
      "   News - Negative Sentiment  News - New Products  News - Layoffs  \\\n",
      "0                        NaN                  NaN             NaN   \n",
      "1                        0.0                  0.0             0.0   \n",
      "2                        0.0                  0.0             0.0   \n",
      "3                        3.0                  0.0             0.0   \n",
      "4                        0.0                  0.0             0.0   \n",
      "\n",
      "   News - Analyst Comments  News - Stocks  News - Dividends  \\\n",
      "0                      NaN            NaN               NaN   \n",
      "1                      4.0            4.0               0.0   \n",
      "2                      2.0            2.0               0.0   \n",
      "3                      2.0            2.0               0.0   \n",
      "4                      3.0            3.0               0.0   \n",
      "\n",
      "   News - Corporate Earnings  News - Mergers & Acquisitions  \\\n",
      "0                        NaN                            NaN   \n",
      "1                        0.0                            0.0   \n",
      "2                        2.0                            1.0   \n",
      "3                        0.0                            2.0   \n",
      "4                        0.0                            3.0   \n",
      "\n",
      "   News - Store Openings  News - Product Recalls  News - Adverse Events  \\\n",
      "0                    NaN                     NaN                    NaN   \n",
      "1                    0.0                     0.0                    0.0   \n",
      "2                    0.0                     0.0                    1.0   \n",
      "3                    0.0                     0.0                    0.0   \n",
      "4                    0.0                     0.0                    3.0   \n",
      "\n",
      "   News - Personnel Changes  News - Stock Rumors  \n",
      "0                       NaN                  NaN  \n",
      "1                       0.0                  0.0  \n",
      "2                       0.0                  0.0  \n",
      "3                       1.0                  0.0  \n",
      "4                       0.0                  0.0  \n"
     ]
    }
   ],
   "source": [
    "import pandas as pd\n",
    "\n",
    "# Load company information\n",
    "company_info = pd.read_csv('company_info.csv')\n",
    "\n",
    "# Load company stock details\n",
    "company_stock_details = pd.read_csv('company_stock_details.csv')\n",
    "\n",
    "# Display the first few rows to understand the structure\n",
    "print(company_info.head())\n",
    "print(company_stock_details.head())"
   ]
  },
  {
   "cell_type": "markdown",
   "metadata": {},
   "source": [
    "CLEAN DATA"
   ]
  },
  {
   "cell_type": "code",
   "execution_count": null,
   "metadata": {},
   "outputs": [],
   "source": [
    "print(company_info.isnull().sum())\n",
    "print(company_stock_details.isnull().sum())"
   ]
  },
  {
   "cell_type": "markdown",
   "metadata": {},
   "source": [
    "company_stock_details.fillna(method='ffill', inplace=True)"
   ]
  },
  {
   "cell_type": "code",
   "execution_count": null,
   "metadata": {},
   "outputs": [],
   "source": [
    "print(company_info.isnull().sum())\n",
    "print(company_stock_details.isnull().sum())"
   ]
  },
  {
   "cell_type": "markdown",
   "metadata": {},
   "source": [
    "MERGE THE TWO PDF TOGETHER"
   ]
  },
  {
   "cell_type": "code",
   "execution_count": null,
   "metadata": {},
   "outputs": [],
   "source": [
    "# Perform an inner join to merge on 'Symbol' (this only keeps rows where there is a match)\n",
    "merged_data = pd.merge(company_stock_details, company_info, on='Symbol', how='inner')\n",
    "\n",
    "# Check the first few rows of the merged data\n",
    "print(merged_data.head())\n",
    "\n",
    "# Save the merged data into a new CSV file\n",
    "merged_data.to_csv('merged_company_data.csv', index=False)"
   ]
  },
  {
   "cell_type": "markdown",
   "metadata": {},
   "source": [
    "hi i need this update up\n"
   ]
  }
 ],
 "metadata": {
  "kernelspec": {
   "display_name": "Python 3",
   "language": "python",
   "name": "python3"
  },
  "language_info": {
   "codemirror_mode": {
    "name": "ipython",
    "version": 3
   },
   "file_extension": ".py",
   "mimetype": "text/x-python",
   "name": "python",
   "nbconvert_exporter": "python",
   "pygments_lexer": "ipython3",
   "version": "3.11.9"
  }
 },
 "nbformat": 4,
 "nbformat_minor": 2
}
