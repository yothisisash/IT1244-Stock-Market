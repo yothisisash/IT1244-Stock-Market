{
 "cells": [
  {
   "cell_type": "markdown",
   "metadata": {},
   "source": [
    "# Model and dataset Folder"
   ]
  },
  {
   "cell_type": "markdown",
   "metadata": {},
   "source": [
    "# External datasets created - merged, train and test"
   ]
  },
  {
   "cell_type": "code",
   "execution_count": null,
   "metadata": {},
   "outputs": [],
   "source": [
    "# Perform an inner join to merge on 'Symbol' (this only keeps rows where there is a match)\n",
    "merged_data = pd.merge(company_stock_details, company_info, on='Symbol', how='inner')\n",
    "\n",
    "# Save the merged data into a new CSV file\n",
    "merged_data.to_csv('merged_company_data.csv', index=False)"
   ]
  },
  {
   "cell_type": "code",
   "execution_count": null,
   "metadata": {},
   "outputs": [],
   "source": [
    "# Sort by date to maintain chronological order\n",
    "merged_data.sort_values(by=['Symbol', 'Date'], inplace=True)\n",
    "\n",
    "# Define the split date\n",
    "train_data = merged_data[merged_data['Date'] < '2022-01-01']\n",
    "test_data = merged_data[merged_data['Date'] >= '2022-01-01']\n",
    "\n",
    "train_data.to_csv('train_data.csv', index=False)\n",
    "test_data.to_csv('test_data.csv', index=False)"
   ]
  },
  {
   "cell_type": "markdown",
   "metadata": {},
   "source": [
    "# Load libraries"
   ]
  },
  {
   "cell_type": "code",
   "execution_count": null,
   "metadata": {},
   "outputs": [],
   "source": [
    "import pandas as pd\n",
    "import numpy as np\n",
    "import matplotlib.pyplot as plt\n",
    "from statsmodels.tsa.holtwinters import ExponentialSmoothing\n",
    "from sklearn.metrics import root_mean_squared_error\n",
    "import torch\n",
    "import torch.nn as nn\n",
    "from sklearn.preprocessing import MinMaxScaler\n",
    "from sklearn.metrics import mean_squared_error\n",
    "from prophet import Prophet\n",
    "from statsmodels.tsa.arima.model import ARIMA"
   ]
  },
  {
   "cell_type": "markdown",
   "metadata": {},
   "source": [
    "# ARIMA model"
   ]
  },
  {
   "cell_type": "code",
   "execution_count": null,
   "metadata": {},
   "outputs": [],
   "source": [
    "model = ARIMA(train_data, order=(1, 1, 3)).fit()\n",
    "forecast = model.forecast(steps=len(test_data))"
   ]
  },
  {
   "cell_type": "markdown",
   "metadata": {},
   "source": [
    "# Holt-winter method model"
   ]
  },
  {
   "cell_type": "code",
   "execution_count": null,
   "metadata": {},
   "outputs": [],
   "source": [
    "model = ExponentialSmoothing(\n",
    "    train_data,\n",
    "    trend='add',\n",
    "    seasonal='add',\n",
    "    seasonal_periods=7\n",
    ").fit()\n",
    "\n",
    "forecast = model.forecast(steps=len(test_data))"
   ]
  },
  {
   "cell_type": "markdown",
   "metadata": {},
   "source": [
    "# LSTM model"
   ]
  },
  {
   "cell_type": "code",
   "execution_count": null,
   "metadata": {},
   "outputs": [],
   "source": [
    "model = AttentionLSTM(\n",
    "    input_size=input_size,\n",
    "    hidden_layer_size=hidden_layer_size,\n",
    "    output_size=1,\n",
    "    num_layers=num_layers\n",
    ")\n",
    "\n",
    "model.fit(\n",
    "    X_train_tensor,\n",
    "    y_train_tensor,\n",
    "    epochs=epochs,\n",
    "    batch_size=batch_size,\n",
    "    validation_data=(X_val_tensor, y_val_tensor),\n",
    "    callbacks=[early_stopping, scheduler]\n",
    ")\n",
    "\n",
    "forecast = []\n",
    "current_sequence = X_val[0]\n",
    "with torch.no_grad():\n",
    "    for i in range(len(X_val)):\n",
    "        current_sequence_tensor = torch.from_numpy(current_sequence).float().unsqueeze(0)\n",
    "        prediction = model(current_sequence_tensor)\n",
    "        forecast.append(prediction.item())\n",
    "        new_prediction = np.array([[prediction.item()] + [0] * (current_sequence.shape[1] - 1)])\n",
    "        current_sequence = np.vstack((current_sequence[1:], new_prediction))"
   ]
  },
  {
   "cell_type": "markdown",
   "metadata": {},
   "source": [
    "# prophet model"
   ]
  },
  {
   "cell_type": "code",
   "execution_count": null,
   "metadata": {},
   "outputs": [],
   "source": [
    "def create_forecast(df, company, use_regressors=False):\n",
    "    df_prophet = df[['Date', 'Close']].rename(columns={'Date': 'ds', 'Close': 'y'})\n",
    "\n",
    "    model = Prophet(\n",
    "        yearly_seasonality=False,\n",
    "        weekly_seasonality=False,\n",
    "        holidays=holidays,\n",
    "        seasonality_mode='multiplicative',\n",
    "        changepoint_prior_scale=0.05\n",
    "    )\n",
    "\n",
    "    for name, params in custom_seasonalities.items():\n",
    "        model.add_seasonality(name=name, period=params['period'], fourier_order=params['fourier_order'])\n",
    "\n",
    "    if use_regressors:\n",
    "        df_prophet['News - Positive Sentiment'] = df['News - Positive Sentiment'].fillna(0)\n",
    "        df_prophet['News - Negative Sentiment'] = df['News - Negative Sentiment'].fillna(0)\n",
    "        model.add_regressor('News - Positive Sentiment')\n",
    "        model.add_regressor('News - Negative Sentiment')\n",
    "\n",
    "    model.fit(df_prophet)\n",
    "    future = model.make_future_dataframe(periods=future_periods)\n",
    "\n",
    "    if use_regressors:\n",
    "        future = future.merge(df_prophet[['ds', 'News - Positive Sentiment', 'News - Negative Sentiment']], on='ds', how='left')\n",
    "        future['News - Positive Sentiment'] = future['News - Positive Sentiment'].fillna(0)\n",
    "        future['News - Negative Sentiment'] = future['News - Negative Sentiment'].fillna(0)\n",
    "\n",
    "    forecast = model.predict(future)\n",
    "    \n",
    "    return forecast\n"
   ]
  }
 ],
 "metadata": {
  "kernelspec": {
   "display_name": "base",
   "language": "python",
   "name": "python3"
  },
  "language_info": {
   "name": "python",
   "version": "3.12.4"
  }
 },
 "nbformat": 4,
 "nbformat_minor": 2
}
